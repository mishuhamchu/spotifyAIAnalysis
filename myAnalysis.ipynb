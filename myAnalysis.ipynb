{
 "cells": [
  {
   "cell_type": "code",
   "execution_count": null,
   "metadata": {},
   "outputs": [],
   "source": [
    "import pandas as pd\n",
    "import spotipy\n",
    "from spotipy.oauth2 import SpotifyClientCredentials\n",
    "from sklearn.cluster import KMeans\n",
    "import matplotlib.pyplot as plt\n",
    "import openai\n",
    "import os\n",
    "import pickle\n",
    "\n",
    "client_credentials_managerMan = SpotifyClientCredentials(client_id=\"\", client_secret=\"\")\n",
    "sp = spotipy.Spotify(client_credentials_manager = client_credentials_managerMan)"
   ]
  },
  {
   "cell_type": "code",
   "execution_count": 3,
   "metadata": {},
   "outputs": [
    {
     "name": "stdout",
     "output_type": "stream",
     "text": [
      "['3hRV0jL3vUpRrcy398teAU', '7yq4Qj7cqayVTp3FF9CWbm', '7CyPwkp0oE8Ro9Dd5CUDjW', '4Dvkj6JhhA12EX05fT7y2e', '6dOtVTDdiauQNBQEDOtlAB', '5Z0UnEtpLDQyYlWwgi8m9C', '5AJ9hqTS2wcFQCELCFRO7A', '17phhZDn6oGtzMe56NuWvj', '4ZJ4vzLQekI0WntDbanNC7', '7iabz12vAuVQYyekFIWJxD', '1C84d9abZVKWHT2YYpoean', '5uQ7de4EWjb3rkcFxyEOpu', '331l3xABO0HMr1Kkyh2LZq', '0mflMxspEfB0VbI1kyLiAv', '63pLfjK6FvcYJYMGwtHjd6', '629DixmZGHc7ILtEntuiWE', '2qSkIjg1o9h3YT9RAgYN75', '1pymWRCuZfCd0zdiBJo0Hj', '2QjOHCTQ1Jl3zawyYOpxh6', '1bjeWoagtHmUKputLVyDxQ', '51eSHglvG1RJXtL3qI5trr', '6XjDF6nds4DE2BBbagZol6', '2uqYupMHANxnwgeiXTZXzd', '51ZQ1vr10ffzbwIjDCwqm4', '42VsgItocQwOQC3XWZ8JNA', '6a9Z1jUms915w4O7N1PxjY', '2HYFX63wP3otVIvopRS99Z', '5Uptvz6j1sjDKxidAcnH2L', '5XeFesFbtLpXzIVDNQP22n', '1BxfuPKGuaTgP7aM0Bbdwr', '7bywjHOc0wSjGGbj04XbVi', '3qhlB30KknSejmIvZZLjOD', '5N3hjp1WNayUPZrA8kJmJP', '5fZJQrFKWQLb7FpJXZ1g7K', '2Zo1PcszsT9WQ0ANntJbID', '1aKvZDoLGkNMxoRYgkckZG', '2GxrNKugF82CnoRFbQfzPf', '0WbMK4wrZ1wFSty9F7FCgu', '7221xIgOnuakPdLqT0F3nP', '3xkHsmpQCBMytMJNiDf3Ii', '3Vr3zh0r7ALn8VLqCiRR10', '2HRgqmZQC0MC7GeNuDIXHN', '2OzhQlSqBEmt7hmkYxfT6m', '3QaPy1KgI7nu9FJEQUgn6h', '3AJwUDP919kvQ9QcozQPxg', '6AI3ezQ4o3HUoP6Dhudph3', '33Nj9AdncSmHbCN3QeSZTL', '4q5YezDOIPcoLr8R81x9qy', '3rUGC1vUpkDG9CZFHMur1t', '7BRD7x5pt8Lqa1eGYC4dzj']\n"
     ]
    }
   ],
   "source": [
    "def get_playlist_tracks(username, playlist_id):\n",
    "    results = sp.user_playlist_tracks(username, playlist_id)\n",
    "    tracks = results['items']\n",
    "    while results['next']:\n",
    "        results = sp.next(results)\n",
    "        tracks.extend(results['items'])\n",
    "    return tracks\n",
    "\n",
    "# Example: Using Spotify's \"Global Top 50\" playlist\n",
    "playlist_id = '37i9dQZEVXbMDoHDwVN2tF'  # Replace with other playlist IDs to get more songs\n",
    "tracks = get_playlist_tracks('spotify', playlist_id)\n",
    "\n",
    "# Extract track IDs\n",
    "track_ids = [track['track']['id'] for track in tracks]\n",
    "\n",
    "# To get 500 unique tracks, you may need to merge tracks from several playlists\n",
    "# For simplicity, let's assume you already have a list of 500 unique track IDs\n",
    "# track_ids = [...]\n",
    "\n",
    "# Remove duplicates if any\n",
    "track_ids = list(set(track_ids))\n",
    "\n",
    "print(track_ids)"
   ]
  },
  {
   "cell_type": "code",
   "execution_count": 4,
   "metadata": {},
   "outputs": [
    {
     "data": {
      "image/png": "[encoded data removed]",
      "text/plain": [
       "<Figure size 432x288 with 1 Axes>"
      ]
     },
     "metadata": {
      "needs_background": "light"
     },
     "output_type": "display_data"
    }
   ],
   "source": [
    "import pandas as pd\n",
    "from sklearn.cluster import KMeans\n",
    "import matplotlib.pyplot as plt\n",
    "\n",
    "# Fetch audio features for multiple songs\n",
    "song_ids = ['3n3Ppam7vgaVa1iaRUc9Lp', '4VqPOruhp5EdPBeR92t6lQ', '6rqhFgbbKwnb9MLmUQDhG6']  # Add more song IDs\n",
    "features = []\n",
    "\n",
    "for song_id in song_ids:\n",
    "    audio_features = sp.audio_features(song_id)[0]\n",
    "    features.append(audio_features)\n",
    "\n",
    "# Convert to DataFrame\n",
    "df = pd.DataFrame(features)\n",
    "\n",
    "# Select features for clustering\n",
    "X = df[['danceability', 'energy', 'loudness', 'speechiness', 'acousticness', 'instrumentalness', 'liveness', 'valence', 'tempo']]\n",
    "\n",
    "# Apply KMeans clustering\n",
    "kmeans = KMeans(n_clusters=3, random_state=42)\n",
    "kmeans.fit(X)\n",
    "df['cluster'] = kmeans.labels_\n",
    "\n",
    "# Visualize the clusters\n",
    "plt.scatter(df['danceability'], df['energy'], c=df['cluster'])\n",
    "plt.xlabel('Danceability')\n",
    "plt.ylabel('Energy')\n",
    "plt.title('Song Clusters')\n",
    "plt.show()"
   ]
  },
  {
   "cell_type": "code",
   "execution_count": 5,
   "metadata": {},
   "outputs": [
    {
     "name": "stdout",
     "output_type": "stream",
     "text": [
      "Predicted Popularity: [67.78983498]\n",
      "Actual Popularity: [58]\n"
     ]
    }
   ],
   "source": [
    "import numpy as np\n",
    "from sklearn.model_selection import train_test_split\n",
    "from sklearn.linear_model import LinearRegression\n",
    "\n",
    "# Fetch data (for example purposes, only a few songs are used)\n",
    "song_ids = ['3n3Ppam7vgaVa1iaRUc9Lp', '4VqPOruhp5EdPBeR92t6lQ', '6rqhFgbbKwnb9MLmUQDhG6']  # Add more song IDs\n",
    "features = []\n",
    "popularity = []\n",
    "\n",
    "for song_id in song_ids:\n",
    "    audio_features = sp.audio_features(song_id)[0]\n",
    "    track_info = sp.track(song_id)\n",
    "    features.append(audio_features)\n",
    "    popularity.append(track_info['popularity'])\n",
    "\n",
    "# Convert to DataFrame\n",
    "df = pd.DataFrame(features)\n",
    "df['popularity'] = popularity\n",
    "\n",
    "# Select features for prediction\n",
    "X = df[['danceability', 'energy', 'loudness', 'speechiness', 'acousticness', 'instrumentalness', 'liveness', 'valence', 'tempo']]\n",
    "y = df['popularity']\n",
    "\n",
    "# Train/test split\n",
    "X_train, X_test, y_train, y_test = train_test_split(X, y, test_size=0.2, random_state=42)\n",
    "\n",
    "# Apply Linear Regression\n",
    "model = LinearRegression()\n",
    "model.fit(X_train, y_train)\n",
    "\n",
    "# Predict and evaluate\n",
    "y_pred = model.predict(X_test)\n",
    "print(\"Predicted Popularity:\", y_pred)\n",
    "print(\"Actual Popularity:\", y_test.values)"
   ]
  },
  {
   "cell_type": "code",
   "execution_count": 10,
   "metadata": {},
   "outputs": [],
   "source": [
    "openai.api_key = ''"
   ]
  },
  {
   "cell_type": "code",
   "execution_count": 14,
   "metadata": {},
   "outputs": [],
   "source": [
    "import json"
   ]
  },
  {
   "cell_type": "code",
   "execution_count": 26,
   "metadata": {},
   "outputs": [
    {
     "name": "stdout",
     "output_type": "stream",
     "text": [
      "This song has a high danceability score of 0.808, indicating that it has a strong beat and rhythm that is likely to make you want to move and dance. The energy level is moderate at 0.626, suggesting that the song is lively and upbeat without being overly intense. \n",
      "\n",
      "With a loudness of -11.84, the song is likely to have a balanced volume that is not too quiet or too loud. The speechiness score of 0.168 suggests that there are vocals in the song, but it is not dominated by lyrics. \n",
      "\n",
      "The low acousticness score of 0.00187 indicates that the song is not very acoustic and likely features electronic or amplified sounds. The instrumentalness score of 0.\n",
      "this is the content:This song has a high danceability score of 0.808, indicating that it has a strong beat and rhythm that is likely to make you want to move and dance. The energy level is moderate at 0.626, suggesting that the song is lively and upbeat without being overly intense. \n",
      "\n",
      "With a loudness of -11.84, the song is likely to have a balanced volume that is not too quiet or too loud. The speechiness score of 0.168 suggests that there are vocals in the song, but it is not dominated by lyrics. \n",
      "\n",
      "The low acousticness score of 0.00187 indicates that the song is not very acoustic and likely features electronic or amplified sounds. The instrumentalness score of 0.\n",
      "This song has a high danceability score of 0.808, indicating that it has a strong beat and rhythm that is likely to make you want to move and dance. The energy level is moderate at 0.626, suggesting that the song is lively and upbeat without being overly intense. \n",
      "\n",
      "With a loudness of -11.84, the song is likely to have a balanced volume that is not too quiet or too loud. The speechiness score of 0.168 suggests that there are vocals in the song, but it is not dominated by lyrics. \n",
      "\n",
      "The low acousticness score of 0.00187 indicates that the song is not very acoustic and likely features electronic or amplified sounds. The instrumentalness score of 0.\n"
     ]
    }
   ],
   "source": [
    "def generate_song_description(features):\n",
    "    prompt = f\"\"\"\n",
    "    Here are the audio features of a song:\n",
    "    - Danceability: {features['danceability']}\n",
    "    - Energy: {features['energy']}\n",
    "    - Loudness: {features['loudness']}\n",
    "    - Speechiness: {features['speechiness']}\n",
    "    - Acousticness: {features['acousticness']}\n",
    "    - Instrumentalness: {features['instrumentalness']}\n",
    "    - Liveness: {features['liveness']}\n",
    "    - Valence: {features['valence']}\n",
    "    - Tempo: {features['tempo']}\n",
    "\n",
    "    Generate a detailed description of the song based on these features.\n",
    "    \"\"\"\n",
    "\n",
    "    client = openai.OpenAI(api_key='')\n",
    "    response = openai.chat.completions.create(\n",
    "        model=\"gpt-3.5-turbo\",\n",
    "        messages=[{\"role\": \"system\", \"content\": prompt}],\n",
    "        max_tokens=150\n",
    "    )\n",
    "\n",
    "\n",
    "    content =  content = response.choices[0].message.content\n",
    "    print(content)\n",
    "    print(\"this is the content:\" + content)\n",
    "    return content\n",
    "\n",
    "# Example usage\n",
    "song_features = {\n",
    "    'danceability': 0.808,\n",
    "    'energy': 0.626,\n",
    "    'loudness': -11.840,\n",
    "    'speechiness': 0.168,\n",
    "    'acousticness': 0.00187,\n",
    "    'instrumentalness': 0.159,\n",
    "    'liveness': 0.376,\n",
    "    'valence': 0.473,\n",
    "    'tempo': 123.994\n",
    "}\n",
    "\n",
    "description = generate_song_description(song_features)\n",
    "print(description)"
   ]
  },
  {
   "cell_type": "code",
   "execution_count": null,
   "metadata": {},
   "outputs": [],
   "source": []
  },
  {
   "cell_type": "code",
   "execution_count": null,
   "metadata": {},
   "outputs": [],
   "source": []
  }
 ],
 "metadata": {
  "kernelspec": {
   "display_name": "Python 3",
   "language": "python",
   "name": "python3"
  },
  "language_info": {
   "codemirror_mode": {
    "name": "ipython",
    "version": 3
   },
   "file_extension": ".py",
   "mimetype": "text/x-python",
   "name": "python",
   "nbconvert_exporter": "python",
   "pygments_lexer": "ipython3",
   "version": "3.10.11"
  }
 },
 "nbformat": 4,
 "nbformat_minor": 2
}
